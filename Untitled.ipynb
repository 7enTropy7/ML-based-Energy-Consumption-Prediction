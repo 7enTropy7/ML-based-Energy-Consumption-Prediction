{
 "cells": [
  {
   "cell_type": "code",
   "execution_count": 1,
   "metadata": {},
   "outputs": [],
   "source": [
    "import pandas as pd\n",
    "import numpy as np\n",
    "import matplotlib.pyplot as plt\n",
    "import keras"
   ]
  },
  {
   "cell_type": "code",
   "execution_count": 2,
   "metadata": {},
   "outputs": [],
   "source": [
    "train= pd.read_csv('PowerTrain.csv')\n",
    "test= pd.read_csv('PowerTest.csv')"
   ]
  },
  {
   "cell_type": "code",
   "execution_count": 3,
   "metadata": {},
   "outputs": [
    {
     "data": {
      "text/html": [
       "<div>\n",
       "<style scoped>\n",
       "    .dataframe tbody tr th:only-of-type {\n",
       "        vertical-align: middle;\n",
       "    }\n",
       "\n",
       "    .dataframe tbody tr th {\n",
       "        vertical-align: top;\n",
       "    }\n",
       "\n",
       "    .dataframe thead th {\n",
       "        text-align: right;\n",
       "    }\n",
       "</style>\n",
       "<table border=\"1\" class=\"dataframe\">\n",
       "  <thead>\n",
       "    <tr style=\"text-align: right;\">\n",
       "      <th></th>\n",
       "      <th>Datetime</th>\n",
       "      <th>AEP_MW</th>\n",
       "    </tr>\n",
       "  </thead>\n",
       "  <tbody>\n",
       "    <tr>\n",
       "      <th>0</th>\n",
       "      <td>12/31/2004 1:00</td>\n",
       "      <td>13478</td>\n",
       "    </tr>\n",
       "    <tr>\n",
       "      <th>1</th>\n",
       "      <td>12/31/2004 2:00</td>\n",
       "      <td>12865</td>\n",
       "    </tr>\n",
       "    <tr>\n",
       "      <th>2</th>\n",
       "      <td>12/31/2004 3:00</td>\n",
       "      <td>12577</td>\n",
       "    </tr>\n",
       "    <tr>\n",
       "      <th>3</th>\n",
       "      <td>12/31/2004 4:00</td>\n",
       "      <td>12517</td>\n",
       "    </tr>\n",
       "    <tr>\n",
       "      <th>4</th>\n",
       "      <td>12/31/2004 5:00</td>\n",
       "      <td>12670</td>\n",
       "    </tr>\n",
       "  </tbody>\n",
       "</table>\n",
       "</div>"
      ],
      "text/plain": [
       "          Datetime  AEP_MW\n",
       "0  12/31/2004 1:00   13478\n",
       "1  12/31/2004 2:00   12865\n",
       "2  12/31/2004 3:00   12577\n",
       "3  12/31/2004 4:00   12517\n",
       "4  12/31/2004 5:00   12670"
      ]
     },
     "execution_count": 3,
     "metadata": {},
     "output_type": "execute_result"
    }
   ],
   "source": [
    "train.head()"
   ]
  },
  {
   "cell_type": "code",
   "execution_count": 4,
   "metadata": {},
   "outputs": [],
   "source": [
    "train_vals= train.iloc[:, 1:2].values"
   ]
  },
  {
   "cell_type": "code",
   "execution_count": 5,
   "metadata": {},
   "outputs": [
    {
     "name": "stdout",
     "output_type": "stream",
     "text": [
      "[[13478]\n",
      " [12865]\n",
      " [12577]\n",
      " ...\n",
      " [15116]\n",
      " [14930]\n",
      " [15315]]\n"
     ]
    }
   ],
   "source": [
    "print(train_vals)"
   ]
  },
  {
   "cell_type": "code",
   "execution_count": 6,
   "metadata": {},
   "outputs": [],
   "source": [
    "from sklearn.preprocessing import MinMaxScaler\n",
    "ss= MinMaxScaler(feature_range=(0,1))\n",
    "train_vals_scaled= ss.fit_transform(train_vals)"
   ]
  },
  {
   "cell_type": "code",
   "execution_count": 7,
   "metadata": {},
   "outputs": [
    {
     "data": {
      "text/plain": [
       "array([0.52671756])"
      ]
     },
     "execution_count": 7,
     "metadata": {},
     "output_type": "execute_result"
    }
   ],
   "source": [
    "train_vals_scaled[60]"
   ]
  },
  {
   "cell_type": "code",
   "execution_count": 8,
   "metadata": {},
   "outputs": [],
   "source": [
    "xtrain=[]\n",
    "ytrain=[]\n",
    "for i in range(60,len(train_vals_scaled)):\n",
    "    xtrain.append(train_vals_scaled[i-60:i,0])\n",
    "    ytrain.append(train_vals_scaled[i,0])\n",
    "\n",
    "xtrain, ytrain = np.array(xtrain), np.array(ytrain)"
   ]
  },
  {
   "cell_type": "code",
   "execution_count": 9,
   "metadata": {},
   "outputs": [],
   "source": [
    "xtrain= np.reshape(xtrain,(xtrain.shape[0],xtrain.shape[1],1))"
   ]
  },
  {
   "cell_type": "code",
   "execution_count": 10,
   "metadata": {},
   "outputs": [
    {
     "data": {
      "text/plain": [
       "(1975, 60, 1)"
      ]
     },
     "execution_count": 10,
     "metadata": {},
     "output_type": "execute_result"
    }
   ],
   "source": [
    "xtrain.shape"
   ]
  },
  {
   "cell_type": "code",
   "execution_count": 11,
   "metadata": {},
   "outputs": [],
   "source": [
    "from keras.models import Sequential\n",
    "from keras.layers import LSTM\n",
    "from keras.layers import Dense\n",
    "from keras.layers import Dropout\n",
    "import tensorflow as tf\n",
    "\n",
    "MEMORY_LIMIT = 1024\n",
    "gpus = tf.config.experimental.list_physical_devices('GPU')\n",
    "if gpus:\n",
    "    try:\n",
    "        tf.config.experimental.set_virtual_device_configuration(gpus[0], [tf.config.experimental.VirtualDeviceConfiguration(memory_limit=MEMORY_LIMIT)])\n",
    "    except RuntimeError as e:\n",
    "        print(e)"
   ]
  },
  {
   "cell_type": "code",
   "execution_count": 12,
   "metadata": {},
   "outputs": [
    {
     "name": "stdout",
     "output_type": "stream",
     "text": [
      "Epoch 1/100\n",
      "66/66 [==============================] - 1s 17ms/step - loss: 0.0336\n",
      "Epoch 2/100\n",
      "66/66 [==============================] - 1s 16ms/step - loss: 0.0214\n",
      "Epoch 3/100\n",
      "66/66 [==============================] - 1s 19ms/step - loss: 0.0208\n",
      "Epoch 4/100\n",
      "66/66 [==============================] - 1s 16ms/step - loss: 0.0200\n",
      "Epoch 5/100\n",
      "66/66 [==============================] - 1s 17ms/step - loss: 0.0181\n",
      "Epoch 6/100\n",
      "66/66 [==============================] - 1s 20ms/step - loss: 0.0154\n",
      "Epoch 7/100\n",
      "66/66 [==============================] - 1s 18ms/step - loss: 0.0130\n",
      "Epoch 8/100\n",
      "66/66 [==============================] - 1s 17ms/step - loss: 0.0122\n",
      "Epoch 9/100\n",
      "66/66 [==============================] - 1s 19ms/step - loss: 0.0125\n",
      "Epoch 10/100\n",
      "66/66 [==============================] - 1s 16ms/step - loss: 0.0113\n",
      "Epoch 11/100\n",
      "66/66 [==============================] - 1s 15ms/step - loss: 0.0117\n",
      "Epoch 12/100\n",
      "66/66 [==============================] - 1s 14ms/step - loss: 0.0118\n",
      "Epoch 13/100\n",
      "66/66 [==============================] - 1s 15ms/step - loss: 0.0103\n",
      "Epoch 14/100\n",
      "66/66 [==============================] - 1s 14ms/step - loss: 0.0097\n",
      "Epoch 15/100\n",
      "66/66 [==============================] - 1s 14ms/step - loss: 0.0098\n",
      "Epoch 16/100\n",
      "66/66 [==============================] - 1s 17ms/step - loss: 0.0091\n",
      "Epoch 17/100\n",
      "66/66 [==============================] - 1s 18ms/step - loss: 0.0087\n",
      "Epoch 18/100\n",
      "66/66 [==============================] - 1s 19ms/step - loss: 0.0089\n",
      "Epoch 19/100\n",
      "66/66 [==============================] - 1s 19ms/step - loss: 0.0087\n",
      "Epoch 20/100\n",
      "66/66 [==============================] - 1s 19ms/step - loss: 0.0080\n",
      "Epoch 21/100\n",
      "66/66 [==============================] - 1s 17ms/step - loss: 0.0080\n",
      "Epoch 22/100\n",
      "66/66 [==============================] - 1s 16ms/step - loss: 0.0071\n",
      "Epoch 23/100\n",
      "66/66 [==============================] - 1s 13ms/step - loss: 0.0071\n",
      "Epoch 24/100\n",
      "66/66 [==============================] - 1s 20ms/step - loss: 0.0061\n",
      "Epoch 25/100\n",
      "66/66 [==============================] - 1s 16ms/step - loss: 0.0063\n",
      "Epoch 26/100\n",
      "66/66 [==============================] - 1s 16ms/step - loss: 0.0066\n",
      "Epoch 27/100\n",
      "66/66 [==============================] - 1s 15ms/step - loss: 0.0062\n",
      "Epoch 28/100\n",
      "66/66 [==============================] - 1s 16ms/step - loss: 0.0056\n",
      "Epoch 29/100\n",
      "66/66 [==============================] - 1s 17ms/step - loss: 0.0055\n",
      "Epoch 30/100\n",
      "66/66 [==============================] - 1s 17ms/step - loss: 0.0051\n",
      "Epoch 31/100\n",
      "66/66 [==============================] - 1s 19ms/step - loss: 0.0051\n",
      "Epoch 32/100\n",
      "66/66 [==============================] - 1s 17ms/step - loss: 0.0053\n",
      "Epoch 33/100\n",
      "66/66 [==============================] - 1s 17ms/step - loss: 0.0047\n",
      "Epoch 34/100\n",
      "66/66 [==============================] - 1s 15ms/step - loss: 0.0048\n",
      "Epoch 35/100\n",
      "66/66 [==============================] - 1s 14ms/step - loss: 0.0045\n",
      "Epoch 36/100\n",
      "66/66 [==============================] - 1s 14ms/step - loss: 0.0042\n",
      "Epoch 37/100\n",
      "66/66 [==============================] - 1s 18ms/step - loss: 0.0043\n",
      "Epoch 38/100\n",
      "66/66 [==============================] - 1s 17ms/step - loss: 0.0047\n",
      "Epoch 39/100\n",
      "66/66 [==============================] - 1s 18ms/step - loss: 0.0044\n",
      "Epoch 40/100\n",
      "66/66 [==============================] - 1s 18ms/step - loss: 0.0041\n",
      "Epoch 41/100\n",
      "66/66 [==============================] - 1s 18ms/step - loss: 0.0038\n",
      "Epoch 42/100\n",
      "66/66 [==============================] - 1s 14ms/step - loss: 0.0036\n",
      "Epoch 43/100\n",
      "66/66 [==============================] - 1s 15ms/step - loss: 0.0037\n",
      "Epoch 44/100\n",
      "66/66 [==============================] - 1s 17ms/step - loss: 0.0034\n",
      "Epoch 45/100\n",
      "66/66 [==============================] - 1s 16ms/step - loss: 0.0035\n",
      "Epoch 46/100\n",
      "66/66 [==============================] - 1s 18ms/step - loss: 0.0032\n",
      "Epoch 47/100\n",
      "66/66 [==============================] - 1s 18ms/step - loss: 0.0035\n",
      "Epoch 48/100\n",
      "66/66 [==============================] - 1s 18ms/step - loss: 0.0034\n",
      "Epoch 49/100\n",
      "66/66 [==============================] - 1s 18ms/step - loss: 0.0035\n",
      "Epoch 50/100\n",
      "66/66 [==============================] - 1s 17ms/step - loss: 0.0030\n",
      "Epoch 51/100\n",
      "66/66 [==============================] - 1s 15ms/step - loss: 0.0032\n",
      "Epoch 52/100\n",
      "66/66 [==============================] - 1s 16ms/step - loss: 0.0034\n",
      "Epoch 53/100\n",
      "66/66 [==============================] - 1s 15ms/step - loss: 0.0033\n",
      "Epoch 54/100\n",
      "66/66 [==============================] - 1s 17ms/step - loss: 0.0033\n",
      "Epoch 55/100\n",
      "66/66 [==============================] - 1s 22ms/step - loss: 0.0029\n",
      "Epoch 56/100\n",
      "66/66 [==============================] - 1s 16ms/step - loss: 0.0027\n",
      "Epoch 57/100\n",
      "66/66 [==============================] - 1s 16ms/step - loss: 0.0028\n",
      "Epoch 58/100\n",
      "66/66 [==============================] - 1s 17ms/step - loss: 0.0029\n",
      "Epoch 59/100\n",
      "66/66 [==============================] - 1s 19ms/step - loss: 0.0029\n",
      "Epoch 60/100\n",
      "66/66 [==============================] - 1s 16ms/step - loss: 0.0028\n",
      "Epoch 61/100\n",
      "66/66 [==============================] - 1s 17ms/step - loss: 0.0028\n",
      "Epoch 62/100\n",
      "66/66 [==============================] - 1s 21ms/step - loss: 0.0025\n",
      "Epoch 63/100\n",
      "66/66 [==============================] - 1s 15ms/step - loss: 0.0026\n",
      "Epoch 64/100\n",
      "66/66 [==============================] - 1s 16ms/step - loss: 0.0027\n",
      "Epoch 65/100\n",
      "66/66 [==============================] - 1s 15ms/step - loss: 0.0027\n",
      "Epoch 66/100\n",
      "66/66 [==============================] - 1s 17ms/step - loss: 0.0025\n",
      "Epoch 67/100\n",
      "66/66 [==============================] - 1s 19ms/step - loss: 0.0025\n",
      "Epoch 68/100\n",
      "66/66 [==============================] - 1s 16ms/step - loss: 0.0024\n",
      "Epoch 69/100\n",
      "66/66 [==============================] - 1s 18ms/step - loss: 0.0021\n",
      "Epoch 70/100\n",
      "66/66 [==============================] - 1s 17ms/step - loss: 0.0024\n",
      "Epoch 71/100\n",
      "66/66 [==============================] - 1s 17ms/step - loss: 0.0023\n",
      "Epoch 72/100\n",
      "66/66 [==============================] - 1s 18ms/step - loss: 0.0022\n",
      "Epoch 73/100\n",
      "66/66 [==============================] - 1s 21ms/step - loss: 0.0022\n",
      "Epoch 74/100\n",
      "66/66 [==============================] - 1s 18ms/step - loss: 0.0020\n",
      "Epoch 75/100\n",
      "66/66 [==============================] - 1s 17ms/step - loss: 0.0022\n",
      "Epoch 76/100\n",
      "66/66 [==============================] - 1s 15ms/step - loss: 0.0021\n",
      "Epoch 77/100\n",
      "66/66 [==============================] - 1s 17ms/step - loss: 0.0021\n",
      "Epoch 78/100\n",
      "66/66 [==============================] - 1s 18ms/step - loss: 0.0021\n",
      "Epoch 79/100\n",
      "66/66 [==============================] - 1s 15ms/step - loss: 0.0021\n",
      "Epoch 80/100\n",
      "66/66 [==============================] - 1s 17ms/step - loss: 0.0019\n",
      "Epoch 81/100\n",
      "66/66 [==============================] - 1s 17ms/step - loss: 0.0020\n",
      "Epoch 82/100\n",
      "66/66 [==============================] - 1s 18ms/step - loss: 0.0019\n",
      "Epoch 83/100\n",
      "66/66 [==============================] - 1s 18ms/step - loss: 0.0020\n",
      "Epoch 84/100\n",
      "66/66 [==============================] - 1s 18ms/step - loss: 0.0019\n",
      "Epoch 85/100\n",
      "66/66 [==============================] - 1s 21ms/step - loss: 0.0019\n",
      "Epoch 86/100\n",
      "66/66 [==============================] - 1s 19ms/step - loss: 0.0020\n",
      "Epoch 87/100\n",
      "66/66 [==============================] - 1s 21ms/step - loss: 0.0019\n",
      "Epoch 88/100\n",
      "66/66 [==============================] - 1s 16ms/step - loss: 0.0019\n",
      "Epoch 89/100\n",
      "66/66 [==============================] - 1s 15ms/step - loss: 0.0018\n",
      "Epoch 90/100\n",
      "66/66 [==============================] - 1s 17ms/step - loss: 0.0018\n",
      "Epoch 91/100\n",
      "66/66 [==============================] - 1s 14ms/step - loss: 0.0017\n",
      "Epoch 92/100\n",
      "66/66 [==============================] - 1s 15ms/step - loss: 0.0016\n",
      "Epoch 93/100\n",
      "66/66 [==============================] - 1s 16ms/step - loss: 0.0018\n",
      "Epoch 94/100\n",
      "66/66 [==============================] - 1s 17ms/step - loss: 0.0018\n",
      "Epoch 95/100\n",
      "66/66 [==============================] - 1s 19ms/step - loss: 0.0017\n",
      "Epoch 96/100\n",
      "66/66 [==============================] - 1s 20ms/step - loss: 0.0016\n",
      "Epoch 97/100\n",
      "66/66 [==============================] - 1s 17ms/step - loss: 0.0016\n",
      "Epoch 98/100\n",
      "66/66 [==============================] - 1s 16ms/step - loss: 0.0017\n",
      "Epoch 99/100\n",
      "66/66 [==============================] - 1s 17ms/step - loss: 0.0015\n",
      "Epoch 100/100\n",
      "66/66 [==============================] - 1s 17ms/step - loss: 0.0017\n"
     ]
    },
    {
     "data": {
      "text/plain": [
       "<tensorflow.python.keras.callbacks.History at 0x7f76e878fbe0>"
      ]
     },
     "execution_count": 12,
     "metadata": {},
     "output_type": "execute_result"
    }
   ],
   "source": [
    "regression= Sequential()\n",
    "regression.add(LSTM(units=50,return_sequences=True,kernel_initializer='glorot_uniform',input_shape=(xtrain.shape[1],1)))\n",
    "regression.add(Dropout(0.2))\n",
    "regression.add(LSTM(units=50,kernel_initializer='glorot_uniform',return_sequences=True))\n",
    "regression.add(Dropout(0.2))\n",
    "regression.add(LSTM(units=50,kernel_initializer='glorot_uniform',return_sequences=True))\n",
    "regression.add(Dropout(0.2))\n",
    "regression.add(LSTM(units=50,kernel_initializer='glorot_uniform'))\n",
    "regression.add(Dropout(0.2))\n",
    "regression.add(Dense(units=1))\n",
    "\n",
    "regression.compile(optimizer='adam',loss='mean_squared_error')\n",
    "regression.fit(xtrain,ytrain,batch_size=30,epochs=100)"
   ]
  },
  {
   "cell_type": "code",
   "execution_count": 13,
   "metadata": {},
   "outputs": [],
   "source": [
    "# from keras.utils.vis_utils import plot_model\n",
    "# plot_model(regression, to_file='model_plot.png', show_shapes=True, show_layer_names=True)"
   ]
  },
  {
   "cell_type": "code",
   "execution_count": 14,
   "metadata": {},
   "outputs": [],
   "source": [
    "test_vals= test.iloc[:, 1:2].values \n",
    "total= pd.concat([train['AEP_MW'],test['AEP_MW']],axis=0) # Concating train and test and then will take last 60 train point\n",
    "test_input = total[len(total)-len(test)-60:].values\n",
    "test_input= test_input.reshape(-1,1) # reshaping it to get it transformed\n",
    "test_input= ss.transform(test_input)"
   ]
  },
  {
   "cell_type": "code",
   "execution_count": 15,
   "metadata": {},
   "outputs": [],
   "source": [
    "xtest= []\n",
    "for i in range(60,80):\n",
    "    xtest.append(test_input[i-60:i,0]) #creating input for lstm prediction"
   ]
  },
  {
   "cell_type": "code",
   "execution_count": 16,
   "metadata": {},
   "outputs": [],
   "source": [
    "xtest= np.array(xtest)"
   ]
  },
  {
   "cell_type": "code",
   "execution_count": 17,
   "metadata": {},
   "outputs": [],
   "source": [
    "xtest= np.reshape(xtest,(xtest.shape[0],xtest.shape[1],1))\n",
    "predicted_value= regression.predict(xtest)"
   ]
  },
  {
   "cell_type": "code",
   "execution_count": 18,
   "metadata": {},
   "outputs": [],
   "source": [
    "predicted_value= ss.inverse_transform(predicted_value)"
   ]
  },
  {
   "cell_type": "code",
   "execution_count": 19,
   "metadata": {},
   "outputs": [
    {
     "data": {
      "text/plain": [
       "<matplotlib.legend.Legend at 0x7f76c406bc40>"
      ]
     },
     "execution_count": 19,
     "metadata": {},
     "output_type": "execute_result"
    },
    {
     "data": {
      "image/png": "[encoded data removed]",
      "text/plain": [
       "<Figure size 1440x720 with 1 Axes>"
      ]
     },
     "metadata": {
      "needs_background": "light"
     },
     "output_type": "display_data"
    }
   ],
   "source": [
    "plt.figure(figsize=(20,10))\n",
    "plt.plot(test_vals,'blue',label='Actual Power Usage')\n",
    "plt.plot(predicted_value,'green',label='Predicted Power Usage')\n",
    "plt.xlabel('Time')\n",
    "plt.ylabel('Power')\n",
    "plt.title('Real vs Predicted Power')\n",
    "plt.legend(loc='best', fontsize=20)"
   ]
  },
  {
   "cell_type": "code",
   "execution_count": null,
   "metadata": {},
   "outputs": [],
   "source": []
  },
  {
   "cell_type": "code",
   "execution_count": null,
   "metadata": {},
   "outputs": [],
   "source": []
  }
 ],
 "metadata": {
  "kernelspec": {
   "display_name": "Python 3",
   "language": "python",
   "name": "python3"
  },
  "language_info": {
   "codemirror_mode": {
    "name": "ipython",
    "version": 3
   },
   "file_extension": ".py",
   "mimetype": "text/x-python",
   "name": "python",
   "nbconvert_exporter": "python",
   "pygments_lexer": "ipython3",
   "version": "3.8.2"
  }
 },
 "nbformat": 4,
 "nbformat_minor": 4
}
